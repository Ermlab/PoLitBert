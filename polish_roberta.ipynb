{
 "nbformat": 4,
 "nbformat_minor": 2,
 "metadata": {
  "language_info": {
   "name": "python",
   "codemirror_mode": {
    "name": "ipython",
    "version": 3
   }
  },
  "orig_nbformat": 2,
  "file_extension": ".py",
  "mimetype": "text/x-python",
  "name": "python",
  "npconvert_exporter": "python",
  "pygments_lexer": "ipython3",
  "version": 3
 },
 "cells": [
  {
   "cell_type": "markdown",
   "execution_count": 2,
   "metadata": {},
   "outputs": [
    {
     "ename": "SyntaxError",
     "evalue": "invalid syntax (<ipython-input-2-17ccbf5af75f>, line 1)",
     "output_type": "error",
     "traceback": [
      "\u001b[0;36m  File \u001b[0;32m\"<ipython-input-2-17ccbf5af75f>\"\u001b[0;36m, line \u001b[0;32m1\u001b[0m\n\u001b[0;31m    Prepare the data.\u001b[0m\n\u001b[0m              ^\u001b[0m\n\u001b[0;31mSyntaxError\u001b[0m\u001b[0;31m:\u001b[0m invalid syntax\n"
     ]
    }
   ],
   "source": [
    "# Prepare the data.\n",
    "\n",
    "## Wikipedia\n",
    "\n",
    "Link: \n",
    "\n",
    "## Oscar\n",
    "Link: \n",
    "\n",
    "## Books\n",
    "\n",
    "Polish wolne lektruy\n",
    "\n",
    "Usefull shell commands\n",
    "\n",
    "\n",
    "Cat all text files and instert new line between each text\n",
    "\n",
    "```sh\n",
    "find *.txt | xargs -I{} sh -c \"cat {}; echo ''\" > all_contents.txt\n",
    "\n",
    "```\n",
    "\n",
    "Take 11768022 first lines form splited wikipedia file\n",
    "```\n",
    "head -11768022 corpus_wiki_books_non_word_tokenized_2020-02-13.txt > corpus_wiki_lines_non_tok_2020-02-13.txt\n",
    "```\n",
    "\n",
    "\n"
   ]
  },
  {
   "cell_type": "code",
   "execution_count": null,
   "metadata": {},
   "outputs": [],
   "source": [
    "#\n",
    "import csv\n",
    "\n",
    "wikipedia_path='./data/wikipedia_2020-02-01.csv'\n",
    "\n",
    "with open(wikipedia_path) as csv_file:\n",
    "    csv_reader = csv.DictReader(csv_file)\n",
    "\n",
    "    for article in csv_reader:\n",
    "        text = article['CleanText']\n",
    "\n",
    "    wiki_text_gen = get_tokenized_text(data=csv_reader, row_label='CleanText')\n",
    "    for i, article in enumerate(wiki_text_gen):\n",
    "        output_file.write(article)\n",
    "        output_file.write('\\n')\n",
    "\n",
    "\n",
    "\n",
    "for row in data:\n",
    "        text = row[row_label]\n",
    "        sentences = sent_tokenize(text, 'polish')\n",
    "        text = ''\n",
    "        for sentence in sentences:\n",
    "            tokenized_sentence = ' '.join(word_tokenize(sentence))\n",
    "            text = '\\n'.join([text, tokenized_sentence])\n",
    "        yield text        \n",
    "        "
   ]
  },
  {
   "cell_type": "markdown",
   "execution_count": null,
   "metadata": {},
   "outputs": [],
   "source": [
    "## Train the BPE sentencepiece model\n",
    "\n",
    "We used the [sentencepiece](https://github.com/google/sentencepiece)\n"
   ]
  },
  {
   "cell_type": "code",
   "execution_count": 1,
   "metadata": {},
   "outputs": [],
   "source": [
    "import sentencepiece as spm\n",
    "import datetime"
   ]
  },
  {
   "cell_type": "code",
   "execution_count": null,
   "metadata": {},
   "outputs": [],
   "source": []
  }
 ]
}