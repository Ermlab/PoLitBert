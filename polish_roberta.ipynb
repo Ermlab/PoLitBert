{
 "nbformat": 4,
 "nbformat_minor": 2,
 "metadata": {
  "language_info": {
   "name": "python",
   "codemirror_mode": {
    "name": "ipython",
    "version": 3
   },
   "version": "3.7.3-final"
  },
  "orig_nbformat": 2,
  "file_extension": ".py",
  "mimetype": "text/x-python",
  "name": "python",
  "npconvert_exporter": "python",
  "pygments_lexer": "ipython3",
  "version": 3,
  "kernelspec": {
   "name": "python37364bitherbertpipenvbcec0f23f820467881614779f1f66588",
   "display_name": "Python 3.7.3 64-bit ('herbert': pipenv)"
  }
 },
 "cells": [
  {
   "cell_type": "markdown",
   "execution_count": 2,
   "metadata": {},
   "outputs": [
    {
     "ename": "SyntaxError",
     "evalue": "invalid syntax (<ipython-input-2-17ccbf5af75f>, line 1)",
     "output_type": "error",
     "traceback": [
      "\u001b[0;36m  File \u001b[0;32m\"<ipython-input-2-17ccbf5af75f>\"\u001b[0;36m, line \u001b[0;32m1\u001b[0m\n\u001b[0;31m    Prepare the data.\u001b[0m\n\u001b[0m              ^\u001b[0m\n\u001b[0;31mSyntaxError\u001b[0m\u001b[0;31m:\u001b[0m invalid syntax\n"
     ]
    }
   ],
   "source": [
    "# Herbert - Polish RoBERT'a model \n",
    "\n",
    "\n",
    "## Prepare the data.\n",
    "\n",
    "* Wikipedia, Link: \n",
    "* Oscar\n",
    "* Books, Polish \"Wolne lektury\"\n",
    "\n"
   ]
  },
  {
   "cell_type": "markdown",
   "execution_count": null,
   "metadata": {},
   "outputs": [],
   "source": [
    "Get raw text from different sources and concat in one big data file. \n",
    "\n",
    "Usefull shell commands:\n",
    "\n",
    "\n",
    "Move files to another directory,  where isbn's are in the file list (wolne lektury non polish)\n",
    "\n",
    "```\n",
    "cat wolne_lektury_non_polish_isbn.txt | xargs -I{} sh -c \"mv *'{}'* ./non_polish/;\" \n",
    "```\n",
    "\n",
    "\n",
    "Cat all text files and instert new line between each text\n",
    "\n",
    "```sh\n",
    "find *.txt | xargs -I{} sh -c \"cat '{}'; echo ''\" > all_contents.txt\n",
    "\n",
    "```\n",
    "\n",
    "Take 11768022 first lines form splited wikipedia file\n",
    "```\n",
    "head -11768022 corpus_wiki_books_non_word_tokenized_2020-02-13.txt > corpus_wiki_lines_non_tok_2020-02-13.txt\n",
    "```\n"
   ]
  },
  {
   "cell_type": "code",
   "execution_count": 1,
   "metadata": {},
   "outputs": [
    {
     "name": "stdout",
     "output_type": "stream",
     "text": "import\n"
    }
   ],
   "source": [
    "import csv\n",
    "import sys\n",
    "import datetime as dt\n",
    "import os\n",
    "from pathlib import Path\n",
    "import re\n",
    "import tqdm as tq\n",
    "from tqdm.notebook import tqdm\n",
    "import mmap\n",
    "\n",
    "print(\"import\")"
   ]
  },
  {
   "cell_type": "code",
   "execution_count": 2,
   "metadata": {},
   "outputs": [],
   "source": [
    "# utils functions\n",
    "\n",
    "\n",
    "def get_num_lines(file_path):\n",
    "    fp = open(file_path, \"r+\")\n",
    "    buf = mmap.mmap(fp.fileno(), 0)\n",
    "    lines = 0\n",
    "    while buf.readline():\n",
    "        lines += 1\n",
    "    return lines"
   ]
  },
  {
   "cell_type": "markdown",
   "metadata": {},
   "source": [
    "Read wikipedia csv file and save in txt.\n",
    "\n",
    "Run only once, just for generating file!!!"
   ]
  },
  {
   "cell_type": "code",
   "execution_count": 4,
   "metadata": {},
   "outputs": [],
   "source": [
    "\n",
    "wikipedia_path='./data/wikipedia_2020-02-01.csv'\n",
    "output_path='./data/corpus_wikipedia_2020-02-01.txt'\n",
    "\n",
    "csv.field_size_limit(sys.maxsize)\n",
    "\n",
    "t0=dt.datetime.now()\n",
    "with open(output_path, 'w+') as output_file:\n",
    "    with open(wikipedia_path) as csv_file:\n",
    "        csv_reader = csv.DictReader(csv_file)\n",
    "\n",
    "        for article in csv_reader:\n",
    "            text = article['CleanText']\n",
    "\n",
    "            output_file.write(text)\n",
    "            # put new line of the end of the article\n",
    "            output_file.write('\\n')   \n",
    "t1=dt.datetime.now()  \n",
    "print(f'Done. Takes={t1-t0}')   "
   ]
  },
  {
   "cell_type": "markdown",
   "execution_count": null,
   "metadata": {},
   "outputs": [],
   "source": [
    "Read book dataset and normalize line splitiing. The textfile has '\\n' in middle of the sentence. It is not necessary if you have proper file.\n",
    "\n",
    "Input: concatenated book textfile\n",
    "Output: file with removed new lines in the middle of the sentence. \n",
    "\n",
    "Run once!!!\n"
   ]
  },
  {
   "cell_type": "code",
   "execution_count": 9,
   "metadata": {},
   "outputs": [
    {
     "name": "stdout",
     "output_type": "stream",
     "text": "data/corpus_books_2020_02_13\ndata/corpus_books_2020_02_13_norm.txt\n"
    },
    {
     "data": {
      "application/vnd.jupyter.widget-view+json": {
       "model_id": "9438bfd1e66a46a185ecb6574838cc4f",
       "version_major": 2,
       "version_minor": 0
      },
      "text/plain": "HBox(children=(FloatProgress(value=0.0, max=58678005.0), HTML(value='')))"
     },
     "metadata": {},
     "output_type": "display_data"
    },
    {
     "name": "stdout",
     "output_type": "stream",
     "text": "\nDone. Takes=0:05:01.928267\n"
    }
   ],
   "source": [
    "\n",
    "\n",
    "input_path='./data/corpus_books_2020_02_13.txt'\n",
    "\n",
    "p = Path(input_path)\n",
    "print(p.with_suffix(''))\n",
    "output_path = f\"{p.with_suffix('')}_fix.txt\"\n",
    "\n",
    "print(output_path)\n",
    "\n",
    "# reg = re.compile('(?<!\\.)(\\n)(?=[a-zA-ZąćęłńóśźżĄĆĘŁŃÓŚŹŻ])',re.MULTILINE )\n",
    "# reg = re.compile('(?<!\\.)(\\n)(?=[a-ząćęłńóśźż])',re.MULTILINE )\n",
    "#reg = re.compile('(?<!\\.\\n)(\\n)(?=[a-ząćęłńóśźż])',re.MULTILINE )\n",
    "\n",
    "\n",
    "# remove line breaks in the middle of the sentence\n",
    "reg = re.compile('(?<=[A-Za-ząćęłńóśźż,—-])(?<!\\.)(\\n)(?=[a-ząćęłńóśźż])',re.MULTILINE )\n",
    "#replace it by space\n",
    "rep_lines=' '\n",
    "\n",
    "# replace many dots in lines with one dot and line break\n",
    "reg_dots = re.com('(\\.*\\n){2,}',,re.MULTILINE)\n",
    "rep_dots='.\\n'\n",
    "\n",
    "# https://pymotw.com/3/mmap/#regular-expressions\n",
    "\n",
    "line_buff = 101# 10007 # this is prime number, next is  10009  10037 \n",
    "N = 0 \n",
    "\n",
    "\n",
    "t0=dt.datetime.now()\n",
    "with open(output_path, 'w+') as output_file:\n",
    "    with open(input_path) as f:\n",
    "\n",
    "        text=''\n",
    "        for line in tqdm(f,total=get_num_lines(input_path)):\n",
    "            # get block of file (line_buff) lines and replace \n",
    "            if N<line_buff:\n",
    "                # glue lines\n",
    "                text+=line\n",
    "                N+=1\n",
    "            else:\n",
    "                # proces and write\n",
    "                replace_text = reg.sub(rep_lines, text)\n",
    "                #todo: clen lines with only one character (dots, etc)\n",
    "\n",
    "                replace_text = reg_dots.sub(rep_dots, replace_text)\n",
    "\n",
    "                output_file.write(replace_text)\n",
    "                text=''\n",
    "                N=0\n",
    "                \n",
    "        # for the rest of the file proces and write\n",
    "        if N>0:\n",
    "            replace_text = reg.sub(rep_str, text)\n",
    "            output_file.write(text)\n",
    "            \n",
    "\n",
    "t1=dt.datetime.now()  \n",
    "print(f'Done. Takes={t1-t0}')  "
   ]
  },
  {
   "cell_type": "markdown",
   "execution_count": null,
   "metadata": {},
   "outputs": [],
   "source": [
    "## Create vocabulary\n",
    "\n",
    "\n",
    "### Prepare data for vocab\n",
    "\n",
    "Create files for training vocabulary. One sentence per line, use polish sentence tokenizer. \n",
    "Sentence piece model is capable of handling around 12_000_000 sentences, so more sentences is not necessary.\n",
    "\n",
    "\n",
    "\n"
   ]
  },
  {
   "cell_type": "code",
   "execution_count": 3,
   "metadata": {},
   "outputs": [
    {
     "name": "stderr",
     "output_type": "stream",
     "text": "[nltk_data] Downloading package punkt to /home/ksopyla/nltk_data...\n[nltk_data]   Package punkt is already up-to-date!\n"
    },
    {
     "data": {
      "text/plain": "True"
     },
     "execution_count": 3,
     "metadata": {},
     "output_type": "execute_result"
    }
   ],
   "source": [
    "import nltk\n",
    "\n",
    "#nltk.download()\n",
    "nltk.download('punkt')\n",
    "\n",
    "\n"
   ]
  },
  {
   "cell_type": "markdown",
   "metadata": {},
   "source": [
    "Add necessary abbreviations to NLTK for wikipedia text"
   ]
  },
  {
   "cell_type": "code",
   "execution_count": 4,
   "metadata": {},
   "outputs": [
    {
     "name": "stdout",
     "output_type": "stream",
     "text": "\ncurrent abbrev={'j.k', 'ds', 'ang', 'red', 'ł.g', 'h.p', 'wikipedii', 'pw', 'maks', 'h', 'j.ch', 'j.a', 'j.c', 'hrubieszowie', 'przejaśnieniami', 'm.a', 'wf', 'm.d', '8.i', 'inf', 'mk', 'p.e.n', 'w.m', 'art', 'św', 'd.k.p.c', 'br', 'tzn', 'pocz', 'h.b', 'k.i', 'a.c', 'th', 'xiw', 'ew', 'p.n.e', 's.k', 'wł', 'k.p.c', 's.a', 'tad', 'a.k', 'w.h', 'k.i.g', 'a.ch', 'c.o', 'r.c', 'kaszb', 'kpt', 'strawy', 'błędem', 'm.o', 'z.z', 'por', 'a.s', 'wsch', 'ad.4', 'dz', 'prof', '2d', 'hab', 'l.r', 'j.w', 'cenowo', 'łac', '2c', 'k', 'l.w', 'g.w', 'tab', 'małg', 'głęb', 'g3', '4a', '7.d', 'pd', 'mkw', 'ś.p', 'sn', 'gq', 'o.n', 'śp', 'tys', 'woj', 'o.p', 's3', 'str', 'op', 'j.u', 'tow', 'adminem', 's.o.s', 'dh', 'dł', 'pn', 'etc', 'episkopat', 'poł', '13.i', '9x', 'bm', 'n.e', 'a.k.m', '2e', 'pl', 'f2', 'ur', 'agd', 'dyr', 'ad.5', 'l', 'j', 'pow', '9.i', 'mł', 'm.in', 'e.s', 'paszportów', 'p.s', 'zach', 'sześc', 'nm', 'c.s', 'jez', '3d', 'zn', '7.b', 'af', '1b', 'habeo', 'reż', 'ryc', 'offenbacha', 'poz', 'hm', 'st', 'm.t', 'w.w', 'lic', '2b', 'odl', 'obw', 'f', 'kw', 'mec', 'ż', 'b', 'ul', 'zw', 'd.o.c', 'k.m.b', '1d', 'g', 'śr', 'p.g', '1971r', 'e.cz', 'u.s', 'pt', 'w.c', 'n.p.m', 'doc', 'ms', 'ł.s', 't', 'm.st', 'tzw', 'p.o', 'p.j', 'godz', 'inż', 'a.w', 'szer', 'k.p', '7.i', 'r.m', 'ok', 'inc', 'lit', 'cz', 'b.r', 'dol', 'szt', 'a.l', 'proc', 'h.s', 'płn', 'n.t', 'sz', 'j.s', 's', 'rys', 'm.b', 'z.d', 'fot', 'zm', 'dn', 'szydercy-realisty', '9.b', 'itp', 'r', 'tj', 'm.k', 'np', 's.c', 'k.k', 'podst', 'v.f', 's.t', 'luf', 'n', 'kl', 'nt', '21.1.—18.2', 'mr', 'o.o', 'ub', 'os', 'ks', 'ub.r', 'gen', 'bie', 'b.b', 'cyt', 'rz'}\n\nupdated abbrev={'wym', 'ang', 'h.p', 'red', 'ł.g', 'wikipedii', 'właść', 'j.a', 'j.ch', 'hrubieszowie', 'przejaśnieniami', 'wf', 'm.d', 'zwł', 'Dz.Ap', 'mk', 'ppłk', 'd.k.p.c', 'pol', 'br', 'pil', 'tzn', 'dr', 'B.Sc', 'dosł', 'th', 'med', 'ws', 'ew', 's.k', 'płk', 'w.h', 'r.c', 'kaszb', 'strawy', 'kor', 'por', 'wsch', 'dz', '2d', 'dot', 'j.w', 'łac', 'k', 'chin', 'g.w', 'mjr', 'głęb', 'g3', 'niem', 'pd', 'hebr', 'mkw', 'o.n', 'śp', 'tys', 'woj', 'o.p', 't.j', 's3', 'vs', 'egip', 'tow', 'adminem', 'pn', 'dh', 'dł', 'etc', '13.i', 'a.k.m', 'pl', 'f2', 'muz', 'agd', 'dyr', 'ad.5', 'wiet', 'j', 'pow', 'mł', 'm.in', 'paszportów', 'pseud', 'p.s', 'gw', 'l.mn', '1b', 'habeo', 'offenbacha', 'poz', 'hiszp', 'lek', 'hm', 'm.t', 'w.w', 'lic', 'Śl', '2b', 'obw', 'płd', 'mec', 'tyt', 'ż', 'zw', 'bł', 'rez', '1d', 'egz', 'g', 'abp', 'śr', 'Corp', 'u.s', 'w.c', 'ms', 'ł.s', 't', 'm.st', 'tzw', 'p.j', 'inż', 'a.w', 'Co', 'szer', '7.i', 'zaw', 'r.m', 'franc', 'sygn', 'lit', 'nr', 'proc', 'płn', 'Ks', 'sz', 's', 'rys', 'p.uł', 'BPanc', 'oryg', 'fr', 'l.poj', 'dn', 'm.i', '9.b', 'szydercy-realisty', 'itp', 'gr', 'arch.kraj', 'Ph.D', 'DKaw', 's.c', 'obs', 'k.k', 'ewan', 'zwycz', 'mar', 'n', 'luf', 'j.m', 'tyb', 'nt', '21.1.—18.2', 'o.o', 'mr', 'ub', 'ks', 'gen', 'bie', 'h.b', 'rz', 'jap', 'j.k', 'wsp', 'ds', 'mgr', 'Dz.U', 'gł', 'pw', 'maks', 'h', 'j.c', 'sum', 'm.a', 'inf', '8.i', 'p.e.n', 'w.m', 'art', 'św', 'Sp', 'jęz', 'pocz', 'k.i', 'krypt', 't.zw', 'a.c', 'wag', 'xiw', 'min', 'p.n.e', 'wł', 'k.p.c', 's.a', 'tad', 'a.k', 'k.i.g', 'a.ch', 'c.o', 'arch', 'kpt', 'błędem', 'm.o', 'z.z', 'Ltd', 'hist', 'a.s', 'ad.4', 'prof', 'hab', 'l.r', 'cenowo', '2c', 'l.w', 'tab', 'małg', '4a', '7.d', 'czyt', 'proj', 'ppor', 'sn', 'ś.p', 'gq', 'ogł', 'ps', 'str', 'n.med', 'poj', 'op', 'j.u', 'obr./min', 'alk', 's.o.s', 'tłum', 'episkopat', 'poł', '9x', 'bm', 'n.e', '2e', 'ur', 'dziek', 'dypl', 'Takht', 'Abp', 'l', '9.i', 'ukr', 'hr', 'e.s', 'zach', 'sześc', 'cal', 'nm', 'c.s', 'jez', '3d', 'zn', '7.b', 'af', 'kpr', 'arab', 'reż', 'przedr', 'ryc', 'st', 'odl', 'czes', 'pp', 'f', 'kw', 'im', 'b', 'DPanc', 'ul', 'd.o.c', 'k.m.b', 'właśc', 'p.g', '1971r', 'e.cz', 'geogr', 'pt', 'Jr', 'marsz', 'doc', 'n.p.m', 'p.o', 'kard', 'tlum', 'wyd', 'godz', 'k.p', 'ww', 'ok', 'inc', 'cz', 'b.r', 'dol', 'szt', 'a.l', 'h.s', 'n.t', 'bp', 'j.s', 'zob', 'm.b', 'z.d', 'km/godz', 'fot', 'zm', 'ha', 'pkt', 'jr', 'obj', 'r', 'tj', 'm.k', 'mln', 'np', 'in', 'sanskryt', 'podst', 'dyw', 'v.f', 's.t', 'kl', 'bryg', 'daw', 'sp', 'os', 'ub.r', 'pot', 'itd', 'b.b', 'cyt'}\nsymmetric diff= {'wym', 'jap', 'wsp', 'mgr', 'Dz.U', 'gł', 'właść', 'sum', 'zwł', 'Dz.Ap', 'ppłk', 'pol', 'pil', 'dr', 'Sp', 'jęz', 'krypt', 't.zw', 'B.Sc', 'dosł', 'med', 'wag', 'ws', 'min', 'płk', 'arch', 'kor', 'Ltd', 'hist', 'dot', 'chin', 'mjr', 'niem', 'czyt', 'proj', 'ppor', 'hebr', 't.j', 'ogł', 'ps', 'vs', 'poj', 'n.med', 'egip', 'obr./min', 'alk', 'tłum', 'dypl', 'dziek', 'Takht', 'muz', 'Abp', 'wiet', 'ukr', 'hr', 'pseud', 'gw', 'l.mn', 'cal', 'kpr', 'arab', 'przedr', 'hiszp', 'lek', 'Śl', 'czes', 'płd', 'pp', 'im', 'tyt', 'DPanc', 'bł', 'rez', 'właśc', 'egz', 'abp', 'Corp', 'geogr', 'Jr', 'marsz', 'kard', 'tlum', 'wyd', 'Co', 'zaw', 'ww', 'franc', 'sygn', 'nr', 'bp', 'Ks', 'p.uł', 'zob', 'BPanc', 'oryg', 'fr', 'l.poj', 'km/godz', 'ha', 'pkt', 'jr', 'obj', 'm.i', 'gr', 'arch.kraj', 'mln', 'Ph.D', 'DKaw', 'in', 'obs', 'ewan', 'zwycz', 'mar', 'sanskryt', 'dyw', 'j.m', 'tyb', 'bryg', 'daw', 'sp', 'itd', 'pot'}\nUpdatad diff= {'wym', 'jap', 'wsp', 'mgr', 'Dz.U', 'gł', 'właść', 'sum', 'zwł', 'Dz.Ap', 'ppłk', 'pol', 'pil', 'dr', 'Sp', 'jęz', 'krypt', 't.zw', 'B.Sc', 'dosł', 'med', 'wag', 'ws', 'min', 'płk', 'arch', 'Ltd', 'kor', 'hist', 'dot', 'chin', 'mjr', 'niem', 'czyt', 'proj', 'ppor', 'hebr', 't.j', 'ogł', 'ps', 'vs', 'poj', 'n.med', 'egip', 'obr./min', 'alk', 'tłum', 'dypl', 'dziek', 'Takht', 'muz', 'Abp', 'wiet', 'ukr', 'hr', 'pseud', 'gw', 'l.mn', 'cal', 'kpr', 'arab', 'przedr', 'hiszp', 'lek', 'Śl', 'czes', 'płd', 'pp', 'im', 'tyt', 'DPanc', 'bł', 'rez', 'właśc', 'egz', 'abp', 'Corp', 'geogr', 'Jr', 'marsz', 'kard', 'tlum', 'wyd', 'Co', 'zaw', 'ww', 'franc', 'sygn', 'nr', 'bp', 'Ks', 'p.uł', 'zob', 'BPanc', 'oryg', 'fr', 'l.poj', 'km/godz', 'ha', 'pkt', 'jr', 'obj', 'm.i', 'gr', 'arch.kraj', 'mln', 'Ph.D', 'DKaw', 'in', 'obs', 'ewan', 'zwycz', 'mar', 'sanskryt', 'dyw', 'j.m', 'tyb', 'bryg', 'daw', 'sp', 'itd', 'pot'}\nCurr diff= set()\n"
    }
   ],
   "source": [
    "\n",
    "\n",
    "extra_abbreviations = ['ps',  'inc', 'Corp', 'Ltd', 'Co', 'pkt', 'Dz.Ap', 'Jr', 'jr', 'sp', 'Sp', 'poj',  'pseud', 'krypt', 'sygn', 'Dz.U', 'ws', 'itd', 'np', 'sanskryt', 'nr', 'gł', 'Takht', 'tzw', 't.zw', 'ewan', 'tyt', 'oryg', 't.j', 'vs', 'l.mn', 'l.poj' ]\n",
    "\n",
    "position_abbrev = ['Ks', 'Abp', 'abp','bp','dr', 'kard', 'mgr', 'prof', 'zwycz', 'hab', 'arch', 'arch.kraj', 'B.Sc', 'Ph.D', 'lek', 'med', 'n.med', 'bł', 'św', 'hr', 'dziek' ]\n",
    "\n",
    "roman_abbrev= [] #['I', 'II', 'III', 'IV', 'V', 'VI', 'VII', 'VIII', 'IX', 'X', 'XI', 'XII', 'XII','XIV','XV','XVI', 'XVII', 'XVIII','XIX', 'XX', 'XXI' ]\n",
    "\n",
    "quantity_abbrev = [ 'mln', 'obr./min','km/godz', 'godz', 'egz', 'ha', 'j.m', 'cal', 'obj', 'alk', 'wag' ] # not added: tys.\n",
    "\n",
    "actions_abbrev = ['tłum','tlum','zob','wym', 'pot', 'ww', 'ogł', 'wyd', 'min', 'm.i', 'm.in', 'in', 'im','muz','tj', 'dot', 'wsp', 'właść', 'właśc', 'przedr', 'czyt', 'proj', 'dosł', 'hist', 'daw', 'zwł', 'zaw' ]\n",
    "\n",
    "place_abbrev = ['Śl', 'płd', 'geogr']\n",
    "\n",
    "lang_abbrev = ['jęz','fr','franc', 'ukr', 'ang', 'gr', 'hebr', 'czes', 'pol', 'niem', 'arab', 'egip', 'hiszp', 'jap', 'chin', 'kor', 'tyb', 'wiet', 'sum']\n",
    "\n",
    "military_abbrev = ['kpt', 'kpr', 'obs', 'pil', 'mjr','płk', 'dypl', 'pp', 'gw', 'dyw', 'bryg', 'ppłk', 'mar', 'marsz', 'rez', 'ppor', 'DPanc', 'BPanc', 'DKaw', 'p.uł']\n",
    "\n",
    "extra_abbreviations= extra_abbreviations + position_abbrev + roman_abbrev + quantity_abbrev + place_abbrev + actions_abbrev + place_abbrev + lang_abbrev+military_abbrev\n",
    "\n",
    "sentence_tokenizer = nltk.data.load('tokenizers/punkt/polish.pickle')\n",
    "\n",
    "abbrev_set_curr = sentence_tokenizer._params.abbrev_types.copy()\n",
    "#update abbrev\n",
    "sentence_tokenizer._params.abbrev_types.update(extra_abbreviations)\n",
    "abbrev_set_upd = sentence_tokenizer._params.abbrev_types.copy()\n",
    "\n",
    "print(f'\\ncurrent abbrev={abbrev_set_curr}')\n",
    "sentence_tokenizer._params.abbrev_types.update(extra_abbreviations)\n",
    "print(f'\\nupdated abbrev={abbrev_set_upd}')\n",
    "\n",
    "print(f'symmetric diff= {abbrev_set_upd.symmetric_difference(abbrev_set_curr)}')\n",
    "\n",
    "print(f'Updatad diff= {abbrev_set_upd.difference(abbrev_set_curr)}')\n",
    "print(f'Curr diff= {abbrev_set_curr.difference(abbrev_set_upd)}')\n",
    "\n",
    "\n",
    "\n",
    "\n"
   ]
  },
  {
   "cell_type": "code",
   "execution_count": 7,
   "metadata": {},
   "outputs": [
    {
     "name": "stdout",
     "output_type": "stream",
     "text": "./data/corpus_books_2020_02_13_norm.txt\n"
    },
    {
     "data": {
      "application/vnd.jupyter.widget-view+json": {
       "model_id": "4aea876ce3744f7fb931f7959416886a",
       "version_major": 2,
       "version_minor": 0
      },
      "text/plain": "HBox(children=(FloatProgress(value=0.0, max=35190434.0), HTML(value='')))"
     },
     "metadata": {},
     "output_type": "display_data"
    },
    {
     "name": "stdout",
     "output_type": "stream",
     "text": "\nDone. Takes=0:38:54.154880\n"
    }
   ],
   "source": [
    "files_to_proces = [\n",
    "    './data/corpus_wikipedia_2020-02-01.txt',\n",
    "    './data/corpus_books_2020_02_13.txt'\n",
    "]\n",
    "files_to_proces = [\n",
    "    './data/corpus_wikipedia_2020-02-01.txt',\n",
    "]\n",
    "files_to_proces = [\n",
    "    './data/corpus_books_2020_02_13_fix.txt'\n",
    "]\n",
    "\n",
    "from nltk.tokenize import sent_tokenize\n",
    "\n",
    "for input_file in files_to_proces:\n",
    "    print(input_file)\n",
    "    t0=dt.datetime.now()\n",
    "\n",
    "    p = Path(input_file)\n",
    "    output_path = f\"{p.with_suffix('')}_lines.txt\"\n",
    "    text=''\n",
    "    with open(output_path, 'w+') as output_file:\n",
    "        with open(input_file) as f:\n",
    "            for line in tqdm(f,total=get_num_lines(input_file)):\n",
    "\n",
    "                # get block of text to new line which splits ariticles\n",
    "                text+=line\n",
    "                if line.strip() == '':\n",
    "\n",
    "                    sentences = sentence_tokenizer.tokenize(text)\n",
    "\n",
    "                    file_content = ''\n",
    "                    for sentence in sentences:\n",
    "                        file_content += sentence.strip()\n",
    "                        file_content+='\\n'\n",
    "                    output_file.write(file_content)\n",
    "                    \n",
    "                    output_file.write('\\n')\n",
    "                    text=''\n",
    "\n",
    "                ## old way\n",
    "                # if line.strip() == '':\n",
    "                #     output_file.write('\\n')\n",
    "                #     continue;\n",
    "\n",
    "                # sentences = sentence_tokenizer.tokenize(line)\n",
    "                \n",
    "                # text = ''\n",
    "                # for sentence in sentences:\n",
    "                #     text += sentence.strip()\n",
    "                #     text+='\\n'\n",
    "                # output_file.write(text)\n",
    "                \n",
    "    t1=dt.datetime.now()  \n",
    "    print(f'Done. Takes={t1-t0}')   "
   ]
  },
  {
   "cell_type": "markdown",
   "execution_count": null,
   "metadata": {},
   "outputs": [],
   "source": [
    "### Train the BPE sentencepiece model\n",
    "\n",
    "We used the [sentencepiece](https://github.com/google/sentencepiece)\n",
    "\n",
    "We get: \n",
    "\n",
    "- 8 mln lines from wiki \n",
    "- 12 mln lines from books\n",
    "\n",
    "This can be done in two ways:\n",
    "- as a python module\n",
    "- as a command line \n",
    "\n",
    "\n",
    "If you want to use it as a commandline you should [build the C++ version from source](https://github.com/google/sentencepiece#c-from-source)\n",
    "\n",
    "\n",
    "\n",
    "```\n",
    "head -8M corpus_wikipedia_2020-02-01_lines.txt > corpus_wikipedia_2020-02-01_lines_8M.txt\n",
    "head -12M corpus_books_2020_02_13_fix_lines.txt > corpus_books_2020_02_13_fix_lines_12M.txt\n",
    "```\n"
   ]
  },
  {
   "cell_type": "markdown",
   "metadata": {},
   "source": [
    "Train using commandline\n",
    "\n",
    "```\n",
    "spm_train \\\n",
    "    --input='./data/corpus_wikipedia_2020-02-01_lines.txt' \\\n",
    "    --max_sentence_length= [ max length of a sentence you accept ]\\\n",
    "    --model_prefix='.data/wikipedia.spm.bpe \\\n",
    "    --vocab_size=32000 \\\n",
    "    --model_type=bpe \\\n",
    "    --shuffle_input_sentence=true \\\n",
    "    --input_sentence_size=10000000 \\\n",
    "    --bos_id=0 --eos_id=1 --pad_id=2 --unk_id=3\n",
    "```\n"
   ]
  },
  {
   "cell_type": "code",
   "execution_count": 1,
   "metadata": {},
   "outputs": [],
   "source": [
    "import sentencepiece as spm\n"
   ]
  },
  {
   "cell_type": "code",
   "execution_count": null,
   "metadata": {},
   "outputs": [],
   "source": [
    "max_vocab_size = 32000\n",
    "model_type = \"bpe\"  \n",
    "iss = 12_000_000\n",
    "\n",
    "lower_vocab = False\n",
    "txt_lower = \"lower\" if lower_vocab else \"upper\"\n",
    "tok_model = f\"wikibooks_{txt_lower}_voc_{max_vocab_size}_sent{iss}\"\n",
    "\n",
    "data_file = './data/corpus_wikipedia_2020-02-01_lines.txt'\n",
    "\n",
    "tok_model = os.path.abspath(f\"./data/{tok_model}\")\n",
    "\n",
    "piece_options = ' --bos_id=0 --eos_id=1 --pad_id=2 --unk_id=3 --shuffle_input_sentence=true'\n",
    "\n",
    "\n",
    "cmd = f\"--input={data_file} --model_prefix={tok_model} --model_type={model_type} --num_threads=4 --vocab_size={vocab_size}  --input_sentence_size={iss}\"+ piece_options\n",
    "print(cmd)\n",
    "\n",
    "\n"
   ]
  }
 ]
}