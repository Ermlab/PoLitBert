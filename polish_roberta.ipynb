{
 "nbformat": 4,
 "nbformat_minor": 2,
 "metadata": {
  "language_info": {
   "name": "python",
   "codemirror_mode": {
    "name": "ipython",
    "version": 3
   },
   "version": "3.7.3-final"
  },
  "orig_nbformat": 2,
  "file_extension": ".py",
  "mimetype": "text/x-python",
  "name": "python",
  "npconvert_exporter": "python",
  "pygments_lexer": "ipython3",
  "version": 3,
  "kernelspec": {
   "name": "python37364bitherbertpipenvbcec0f23f820467881614779f1f66588",
   "display_name": "Python 3.7.3 64-bit ('herbert': pipenv)"
  }
 },
 "cells": [
  {
   "cell_type": "markdown",
   "execution_count": 2,
   "metadata": {},
   "outputs": [
    {
     "ename": "SyntaxError",
     "evalue": "invalid syntax (<ipython-input-2-17ccbf5af75f>, line 1)",
     "output_type": "error",
     "traceback": [
      "\u001b[0;36m  File \u001b[0;32m\"<ipython-input-2-17ccbf5af75f>\"\u001b[0;36m, line \u001b[0;32m1\u001b[0m\n\u001b[0;31m    Prepare the data.\u001b[0m\n\u001b[0m              ^\u001b[0m\n\u001b[0;31mSyntaxError\u001b[0m\u001b[0;31m:\u001b[0m invalid syntax\n"
     ]
    }
   ],
   "source": [
    "# Herbert - Polish RoBERT'a model \n",
    "\n",
    "\n",
    "## Prepare the data.\n",
    "\n",
    "* Wikipedia, Link: \n",
    "* Oscar\n",
    "* Books, Polish \"Wolne lektury\"\n",
    "\n"
   ]
  },
  {
   "cell_type": "markdown",
   "metadata": {},
   "source": [
    "Usefull resources\n",
    "\n",
    "\n",
    "* https://github.com/pytorch/fairseq/blob/master/examples/roberta/README.pretraining.md\n",
    "* https://github.com/musixmatchresearch/umberto/issues/2\n"
   ]
  },
  {
   "cell_type": "markdown",
   "execution_count": null,
   "metadata": {},
   "outputs": [],
   "source": [
    "Get raw text from different sources and concat in one big data file. \n",
    "\n",
    "Usefull shell commands:\n",
    "\n",
    "\n",
    "Move files to another directory,  where isbn's are in the file list (wolne lektury non polish)\n",
    "\n",
    "```\n",
    "cat wolne_lektury_non_polish_isbn.txt | xargs -I{} sh -c \"mv *'{}'* ./non_polish/;\" \n",
    "```\n",
    "\n",
    "\n",
    "Cat all text files and instert new line between each text\n",
    "\n",
    "```sh\n",
    "find *content.txt | xargs -I{} sh -c \"cat '{}'; echo ''\" > corpus_[type]_[date].txt\n",
    "\n",
    "```\n",
    "\n",
    "Take 11768022 first lines form splited wikipedia file\n",
    "```\n",
    "head -11768022 corpus_wiki_2020-02-13.txt > corpus_wiki_2020-02-13_sample.txt\n",
    "```\n"
   ]
  },
  {
   "cell_type": "code",
   "execution_count": 1,
   "metadata": {},
   "outputs": [
    {
     "name": "stdout",
     "output_type": "stream",
     "text": "import\n"
    }
   ],
   "source": [
    "import csv\n",
    "import sys\n",
    "import datetime as dt\n",
    "import os\n",
    "from pathlib import Path\n",
    "import re\n",
    "import tqdm as tq\n",
    "from tqdm.notebook import tqdm\n",
    "import mmap\n",
    "\n",
    "print(\"import\")"
   ]
  },
  {
   "cell_type": "code",
   "execution_count": 2,
   "metadata": {},
   "outputs": [],
   "source": [
    "# utils functions\n",
    "\n",
    "\n",
    "def get_num_lines(file_path):\n",
    "    fp = open(file_path, \"r+\")\n",
    "    buf = mmap.mmap(fp.fileno(), 0)\n",
    "    lines = 0\n",
    "    while buf.readline():\n",
    "        lines += 1\n",
    "    return lines"
   ]
  },
  {
   "cell_type": "markdown",
   "metadata": {},
   "source": [
    "Read wikipedia csv file and save in txt.\n",
    "\n",
    "Run only once, just for generating file!!!"
   ]
  },
  {
   "cell_type": "code",
   "execution_count": 4,
   "metadata": {},
   "outputs": [],
   "source": [
    "\n",
    "wikipedia_path='./data/wikipedia_2020-02-01.csv'\n",
    "output_path='./data/corpus_wikipedia_2020-02-01.txt'\n",
    "\n",
    "csv.field_size_limit(sys.maxsize)\n",
    "\n",
    "t0=dt.datetime.now()\n",
    "with open(output_path, 'w+') as output_file:\n",
    "    with open(wikipedia_path) as csv_file:\n",
    "        csv_reader = csv.DictReader(csv_file)\n",
    "\n",
    "        for article in csv_reader:\n",
    "            text = article['CleanText']\n",
    "\n",
    "            output_file.write(text)\n",
    "            # put new line of the end of the article\n",
    "            output_file.write('\\n')   \n",
    "t1=dt.datetime.now()  \n",
    "print(f'Done. Takes={t1-t0}')   "
   ]
  },
  {
   "cell_type": "markdown",
   "execution_count": null,
   "metadata": {},
   "outputs": [],
   "source": [
    "Read book dataset and normalize line splitiing. The textfile has '\\n' in middle of the sentence. It is not necessary if you have proper file.\n",
    "\n",
    "Input: concatenated book textfile\n",
    "Output: file with removed new lines in the middle of the sentence. \n",
    "\n",
    "Run once!!!\n"
   ]
  },
  {
   "cell_type": "code",
   "execution_count": 4,
   "metadata": {},
   "outputs": [
    {
     "name": "stdout",
     "output_type": "stream",
     "text": "data/corpus_books_2020_02_24\ndata/corpus_books_2020_02_24_fix.txt\n"
    },
    {
     "data": {
      "application/vnd.jupyter.widget-view+json": {
       "model_id": "b97ea5d8f15347909e8187650569ff6e",
       "version_major": 2,
       "version_minor": 0
      },
      "text/plain": "HBox(children=(FloatProgress(value=0.0, max=58596628.0), HTML(value='')))"
     },
     "metadata": {},
     "output_type": "display_data"
    },
    {
     "name": "stdout",
     "output_type": "stream",
     "text": "\nDone. Takes=0:05:41.774077\n"
    }
   ],
   "source": [
    "\n",
    "\n",
    "input_path='./data/corpus_books_2020_02_24.txt'\n",
    "\n",
    "p = Path(input_path)\n",
    "print(p.with_suffix(''))\n",
    "output_path = f\"{p.with_suffix('')}_fix.txt\"\n",
    "\n",
    "print(output_path)\n",
    "\n",
    "# reg = re.compile('(?<!\\.)(\\n)(?=[a-zA-ZąćęłńóśźżĄĆĘŁŃÓŚŹŻ])',re.MULTILINE )\n",
    "# reg = re.compile('(?<!\\.)(\\n)(?=[a-ząćęłńóśźż])',re.MULTILINE )\n",
    "#reg = re.compile('(?<!\\.\\n)(\\n)(?=[a-ząćęłńóśźż])',re.MULTILINE )\n",
    "\n",
    "\n",
    "# remove line breaks in the middle of the sentence\n",
    "reg = re.compile('(?<=[A-Za-ząćęłńóśźż,—-])(?<!\\.)(\\n)(?=[a-ząćęłńóśźż])',re.MULTILINE )\n",
    "#replace it by space\n",
    "rep_lines=' '\n",
    "\n",
    "# replace many dots in lines with one dot and line break\n",
    "# https://regex101.com/r/qCTEPu/1\n",
    "reg_dots = re.compile(r\"^[\\.-]([\\.\\s]*\\n)\",re.MULTILINE)\n",
    "rep_dots='\\n'\n",
    "\n",
    "# https://pymotw.com/3/mmap/#regular-expressions\n",
    "\n",
    "line_buff = 10007# 10007 # this is prime number, next is  10009  10037 \n",
    "N = 0 \n",
    "\n",
    "def save_buffer2file(output_file, text):\n",
    "\n",
    "    # proces and write\n",
    "    replace_text = reg.sub(rep_lines, text)\n",
    "    #clean lines with only one character (dots, etc)\n",
    "    replace_text = reg_dots.sub(rep_dots, replace_text)\n",
    "\n",
    "    output_file.write(replace_text)\n",
    "\n",
    "\n",
    "\n",
    "t0=dt.datetime.now()\n",
    "with open(output_path, 'w+') as output_file:\n",
    "    with open(input_path) as f:\n",
    "\n",
    "        text=''\n",
    "        for line in tqdm(f,total=get_num_lines(input_path)):\n",
    "            # get block of file (line_buff) lines and replace \n",
    "            if N<line_buff:\n",
    "                # glue lines\n",
    "                text+=line\n",
    "                N+=1\n",
    "            else:\n",
    "                save_buffer2file(output_file, text)\n",
    "                \n",
    "                text=''\n",
    "                N=0\n",
    "                \n",
    "        # for the rest of the file proces and write\n",
    "        if N>0:\n",
    "            save_buffer2file(output_file, text)\n",
    "            \n",
    "\n",
    "t1=dt.datetime.now()  \n",
    "print(f'Done. Takes={t1-t0}')  "
   ]
  },
  {
   "cell_type": "markdown",
   "execution_count": null,
   "metadata": {},
   "outputs": [],
   "source": [
    "## Create vocabulary\n",
    "\n",
    "\n",
    "### Prepare data for vocab\n",
    "\n",
    "Create files for training vocabulary. One sentence per line, use polish sentence tokenizer. \n",
    "Sentence piece model is capable of handling around 12_000_000 sentences, so more sentences is not necessary.\n",
    "\n",
    "\n",
    "\n"
   ]
  },
  {
   "cell_type": "code",
   "execution_count": 5,
   "metadata": {},
   "outputs": [
    {
     "name": "stderr",
     "output_type": "stream",
     "text": "[nltk_data] Downloading package punkt to /home/ksopyla/nltk_data...\n[nltk_data]   Package punkt is already up-to-date!\n"
    },
    {
     "data": {
      "text/plain": "True"
     },
     "execution_count": 5,
     "metadata": {},
     "output_type": "execute_result"
    }
   ],
   "source": [
    "import nltk\n",
    "\n",
    "#nltk.download()\n",
    "nltk.download('punkt')\n",
    "\n",
    "\n"
   ]
  },
  {
   "cell_type": "markdown",
   "metadata": {},
   "source": [
    "Add necessary abbreviations to NLTK for wikipedia text"
   ]
  },
  {
   "cell_type": "code",
   "execution_count": 6,
   "metadata": {},
   "outputs": [
    {
     "name": "stdout",
     "output_type": "stream",
     "text": "\ncurrent abbrev={'a.ch', 'str', 'ł.g', 'zw', 'zn', 'dz', 'ad.4', 'br', '1b', 'm.t', 'ok', '13.i', 'p.j', 's3', 'głęb', 'woj', 'rys', 'poł', 's.o.s', 'pt', '2c', 'j', 'małg', 'a.k.m', 'm.b', 's.t', 'ang', 'z.z', 'pw', 'dh', 'tab', 'k.k', 'tow', 'dyr', 'f2', 'ds', 'red', 'ż', 'l.w', 'fot', 'art', '7.i', '7.d', 'g', 'godz', 'itp', 'nt', '9x', 'pow', 'rz', 'a.c', 'n', 'cyt', 'zm', 'gen', 't', 'm.in', 'szt', 'lit', '8.i', 'n.e', 'w.c', 'doc', 'tj', 's.a', 'w.w', 'dł', 'j.u', 'm.d', 'p.g', 'k.i.g', 'r', 'episkopat', '2b', 'a.s', 'p.n.e', 'k.p', 'luf', 'a.l', 'w.m', 'e.cz', 'cz', 'mk', 'v.f', 'prof', 'hrubieszowie', 'tzn', 'nm', 'bm', 'ryc', 'ub.r', 'k.i', 'op', 'st', 'podst', 'j.w', 'k.m.b', 'h.b', 'af', 'b.r', 'szydercy-realisty', 'j.ch', 'm.k', 'pl', 'm.st', 'płn', 'l', 'bie', 'maks', 'ad.5', 'agd', 'u.s', 'mł', 'inc', 'dol', '9.i', '2e', 'ł.s', 'n.p.m', 'dn', '1d', 'b', 'ul', 'ms', 'kpt', 'ur', 'r.m', 'tzw', 'tad', 'pd', 'łac', 'błędem', 'h.p', 'mkw', 'inż', 'pn', 'l.r', 'z.d', 'śr', 'n.t', 'o.n', 'cenowo', 'm.o', 'j.a', 'g3', 'mr', 'św', 's', 'o.o', 'tys', 'kw', 'hab', '1971r', '4a', '9.b', 'szer', 'th', 'p.e.n', 'k', 'd.k.p.c', 'odl', 'wsch', 'sn', 'j.k', 'p.o', 'ks', 'c.o', '2d', 'pocz', 'b.b', 'jez', 'p.s', 'os', 'adminem', 'xiw', 'wf', 'g.w', 'offenbacha', 'wł', 'a.k', 'h.s', 'r.c', 'lic', 'h', 'strawy', 's.c', 'proc', 'inf', 'obw', 'etc', 'a.w', 'przejaśnieniami', 'sz', 'j.s', 'wikipedii', 'ub', '7.b', 'ew', '21.1.—18.2', 'np', 'poz', 'sześc', 'f', 's.k', 'e.s', 'w.h', 'o.p', 'j.c', 'reż', 'm.a', 'k.p.c', 'kl', 'mec', 'por', 'd.o.c', 'kaszb', 'hm', 'c.s', 'zach', 'ś.p', 'śp', '3d', 'paszportów', 'gq', 'habeo'}\n\nupdated abbrev={'str', 'tyt', 'geogr', '1b', 'ad.4', 'br', 'p.j', 'ws', 's3', 'dr', 'poł', '2c', 'egip', 'czes', 'j', 'B.Sc', 'małg', 'a.k.m', 'ogł', 'pw', 'dh', 'tow', 'dyr', 'sanskryt', 'ds', 'red', 'l.w', 'fot', 'DKaw', 'art', 'krypt', '7.i', 'godz', 'czyt', 'hebr', '9x', 'pow', 'rz', 'a.c', 'arch.kraj', 't.j', 'gen', 't', 'm.in', 'szt', 'doc', 'dł', 'wag', 'w.w', 'j.u', 'm.d', 'kor', 'oryg', 'k.i.g', 'pot', 'ww', 'r', 'DPanc', 'episkopat', 'ps', 'pkt', 'p.n.e', 'ewan', 'mar', 'k.p', 'a.l', 'alk', 'e.cz', 'daw', 'mk', 'tzn', 'bm', 'muz', 'ryc', 'k.i', 'bp', 'j.w', 'zaw', 'op', 'k.m.b', 'mjr', 'h.b', 'af', 'p.uł', 'j.ch', 'Ph.D', 'obr./min', 'm.st', 'l', 'hiszp', 'dol', '9.i', 'ł.s', 'kard', '1d', 'ms', 'r.m', 'tzw', 'ukr', 'pd', 'błędem', 'h.p', 'Takht', 'ppłk', 'pseud', 'pn', 'z.d', 'jęz', 'ppor', 'med', 'cenowo', 'm.o', 'j.a', 'mr', 't.zw', 'św', 'o.o', 'kw', '1971r', 'dziek', 'pol', 'th', 'k', 'zob', 'p.e.n', 'd.k.p.c', 'odl', 'wsch', 'sn', 'tyb', 'p.o', 'franc', 'poj', '2d', 'b.b', 'pocz', 'jez', 'p.s', 'os', 'xiw', 'l.mn', 'chin', 'r.c', 'h.s', 'lic', 'strawy', 'rez', 'proc', 'min', 'obw', 'a.w', 'przejaśnieniami', 'fr', 'ub', 'wikipedii', '7.b', 'mln', 'ew', '21.1.—18.2', 'np', 'poz', 'hist', 'itd', 'j.c', 'reż', 'm.a', 'kl', 'jr', 'Corp', 'zach', 'ś.p', 'zw', 'habeo', 'a.ch', 'ł.g', 'BPanc', 'zn', 'dz', 'obs', 'm.t', 'ok', '13.i', 'tłum', 'głęb', 'woj', 'rys', 'bł', 's.o.s', 'wsp', 'pt', 'l.poj', 'vs', 'Sp', 'm.b', 'arch', 's.t', 'ang', 'z.z', 'sum', 'k.k', 'płk', 'tab', 'Jr', 'f2', 'ż', 'tlum', 'nr', 'przedr', 'dypl', '7.d', 'g', 'itp', 'nt', 'gł', 'wym', 'n', 'zwł', 'cyt', 'dot', 'zm', 'lit', 'Ltd', '8.i', 'mgr', 'n.e', 'w.c', 'egz', 'tj', 's.a', 'p.g', 'a.s', '2b', 'Dz.U', 'niem', 'bryg', 'lek', 'marsz', 'luf', 'w.m', 'cz', 'v.f', 'prof', 'hrubieszowie', 'nm', 'hr', 'ub.r', 'Co', 'st', 'podst', 'płd', 'sp', 'b.r', 'szydercy-realisty', 'm.k', 'pl', 'płn', 'wiet', 'arab', 'bie', 'ad.5', 'agd', 'u.s', 'mł', 'maks', 'inc', '2e', 'n.p.m', 'dn', 'b', 'ul', 'kpt', 'ur', 'zwycz', 'dosł', 'tad', 'łac', 'm.i', 'mkw', 'inż', 'l.r', 'śr', 'n.t', 'o.n', 'g3', 's', 'tys', 'kpr', 'Abp', 'hab', '4a', '9.b', 'szer', 'km/godz', 'j.k', 'ks', 'c.o', 'Ks', 'wf', 'adminem', 'in', 'g.w', 'im', 'offenbacha', 'wł', 'a.k', 'h', 's.c', 'inf', 'etc', 'cal', 'sz', 'j.s', 'gr', 'Śl', 'pil', 'sześc', 'wyd', 'f', 'proj', 's.k', 'e.s', 'o.p', 'w.h', 'właśc', 'pp', 'właść', 'ha', 'por', 'dyw', 'k.p.c', 'mec', 'd.o.c', 'j.m', 'kaszb', 'abp', 'hm', 'gw', 'c.s', 'śp', 'obj', '3d', 'n.med', 'gq', 'jap', 'paszportów', 'Dz.Ap', 'sygn'}\nsymmetric diff= {'tyt', 'BPanc', 'geogr', 'obs', 'ws', 'tłum', 'dr', 'bł', 'wsp', 'egip', 'l.poj', 'vs', 'czes', 'B.Sc', 'Sp', 'arch', 'ogł', 'płk', 'sum', 'Jr', 'sanskryt', 'tlum', 'nr', 'przedr', 'DKaw', 'dypl', 'krypt', 'czyt', 'hebr', 'gł', 'wym', 'arch.kraj', 'zwł', 't.j', 'dot', 'Ltd', 'mgr', 'egz', 'wag', 'kor', 'oryg', 'pot', 'ww', 'DPanc', 'pkt', 'ps', 'mar', 'ewan', 'Dz.U', 'niem', 'bryg', 'lek', 'marsz', 'alk', 'daw', 'muz', 'hr', 'bp', 'Co', 'zaw', 'płd', 'mjr', 'sp', 'p.uł', 'Ph.D', 'obr./min', 'wiet', 'arab', 'hiszp', 'kard', 'zwycz', 'ukr', 'dosł', 'm.i', 'Takht', 'ppłk', 'pseud', 'jęz', 'ppor', 'med', 't.zw', 'kpr', 'Abp', 'dziek', 'pol', 'zob', 'km/godz', 'tyb', 'franc', 'poj', 'Ks', 'l.mn', 'in', 'im', 'chin', 'rez', 'min', 'cal', 'fr', 'gr', 'mln', 'Śl', 'pil', 'hist', 'itd', 'wyd', 'proj', 'pp', 'właśc', 'właść', 'ha', 'dyw', 'jr', 'j.m', 'Corp', 'abp', 'gw', 'obj', 'jap', 'Dz.Ap', 'n.med', 'sygn'}\nUpdatad diff= {'tyt', 'BPanc', 'geogr', 'obs', 'ws', 'tłum', 'dr', 'bł', 'wsp', 'egip', 'l.poj', 'vs', 'czes', 'B.Sc', 'Sp', 'arch', 'ogł', 'płk', 'sum', 'Jr', 'sanskryt', 'tlum', 'nr', 'przedr', 'DKaw', 'dypl', 'krypt', 'czyt', 'hebr', 'gł', 'wym', 'arch.kraj', 'zwł', 't.j', 'dot', 'Ltd', 'mgr', 'egz', 'wag', 'kor', 'oryg', 'pot', 'ww', 'DPanc', 'pkt', 'ps', 'mar', 'ewan', 'Dz.U', 'niem', 'bryg', 'lek', 'marsz', 'alk', 'daw', 'muz', 'hr', 'bp', 'Co', 'zaw', 'płd', 'mjr', 'sp', 'p.uł', 'obr./min', 'Ph.D', 'wiet', 'arab', 'hiszp', 'kard', 'zwycz', 'ukr', 'dosł', 'm.i', 'Takht', 'ppłk', 'pseud', 'jęz', 'ppor', 'med', 't.zw', 'kpr', 'Abp', 'dziek', 'pol', 'zob', 'km/godz', 'tyb', 'franc', 'poj', 'Ks', 'l.mn', 'in', 'im', 'chin', 'rez', 'min', 'cal', 'fr', 'gr', 'mln', 'Śl', 'pil', 'hist', 'itd', 'wyd', 'proj', 'pp', 'właśc', 'właść', 'ha', 'dyw', 'jr', 'j.m', 'Corp', 'abp', 'gw', 'obj', 'jap', 'n.med', 'Dz.Ap', 'sygn'}\nCurr diff= set()\n"
    }
   ],
   "source": [
    "\n",
    "\n",
    "extra_abbreviations = ['ps',  'inc', 'Corp', 'Ltd', 'Co', 'pkt', 'Dz.Ap', 'Jr', 'jr', 'sp', 'Sp', 'poj',  'pseud', 'krypt', 'sygn', 'Dz.U', 'ws', 'itd', 'np', 'sanskryt', 'nr', 'gł', 'Takht', 'tzw', 't.zw', 'ewan', 'tyt', 'oryg', 't.j', 'vs', 'l.mn', 'l.poj' ]\n",
    "\n",
    "position_abbrev = ['Ks', 'Abp', 'abp','bp','dr', 'kard', 'mgr', 'prof', 'zwycz', 'hab', 'arch', 'arch.kraj', 'B.Sc', 'Ph.D', 'lek', 'med', 'n.med', 'bł', 'św', 'hr', 'dziek' ]\n",
    "\n",
    "roman_abbrev= [] #['I', 'II', 'III', 'IV', 'V', 'VI', 'VII', 'VIII', 'IX', 'X', 'XI', 'XII', 'XII','XIV','XV','XVI', 'XVII', 'XVIII','XIX', 'XX', 'XXI' ]\n",
    "\n",
    "quantity_abbrev = [ 'mln', 'obr./min','km/godz', 'godz', 'egz', 'ha', 'j.m', 'cal', 'obj', 'alk', 'wag' ] # not added: tys.\n",
    "\n",
    "actions_abbrev = ['tłum','tlum','zob','wym', 'pot', 'ww', 'ogł', 'wyd', 'min', 'm.i', 'm.in', 'in', 'im','muz','tj', 'dot', 'wsp', 'właść', 'właśc', 'przedr', 'czyt', 'proj', 'dosł', 'hist', 'daw', 'zwł', 'zaw' ]\n",
    "\n",
    "place_abbrev = ['Śl', 'płd', 'geogr']\n",
    "\n",
    "lang_abbrev = ['jęz','fr','franc', 'ukr', 'ang', 'gr', 'hebr', 'czes', 'pol', 'niem', 'arab', 'egip', 'hiszp', 'jap', 'chin', 'kor', 'tyb', 'wiet', 'sum']\n",
    "\n",
    "military_abbrev = ['kpt', 'kpr', 'obs', 'pil', 'mjr','płk', 'dypl', 'pp', 'gw', 'dyw', 'bryg', 'ppłk', 'mar', 'marsz', 'rez', 'ppor', 'DPanc', 'BPanc', 'DKaw', 'p.uł']\n",
    "\n",
    "extra_abbreviations= extra_abbreviations + position_abbrev + roman_abbrev + quantity_abbrev + place_abbrev + actions_abbrev + place_abbrev + lang_abbrev+military_abbrev\n",
    "\n",
    "sentence_tokenizer = nltk.data.load('tokenizers/punkt/polish.pickle')\n",
    "\n",
    "abbrev_set_curr = sentence_tokenizer._params.abbrev_types.copy()\n",
    "#update abbrev\n",
    "sentence_tokenizer._params.abbrev_types.update(extra_abbreviations)\n",
    "abbrev_set_upd = sentence_tokenizer._params.abbrev_types.copy()\n",
    "\n",
    "# print(f'\\ncurrent abbrev={abbrev_set_curr}')\n",
    "sentence_tokenizer._params.abbrev_types.update(extra_abbreviations)\n",
    "# print(f'\\nupdated abbrev={abbrev_set_upd}')\n",
    "\n",
    "# print(f'symmetric diff= {abbrev_set_upd.symmetric_difference(abbrev_set_curr)}')\n",
    "\n",
    "# print(f'Updatad diff= {abbrev_set_upd.difference(abbrev_set_curr)}')\n",
    "# print(f'Curr diff= {abbrev_set_curr.difference(abbrev_set_upd)}')\n",
    "\n"
   ]
  },
  {
   "cell_type": "code",
   "execution_count": 7,
   "metadata": {},
   "outputs": [
    {
     "name": "stdout",
     "output_type": "stream",
     "text": "./data/corpus_books_2020_02_24_fix.txt\n"
    },
    {
     "data": {
      "application/vnd.jupyter.widget-view+json": {
       "model_id": "6ff3c053d1294fbb88658ff4403cf76f",
       "version_major": 2,
       "version_minor": 0
      },
      "text/plain": "HBox(children=(FloatProgress(value=0.0, max=35246684.0), HTML(value='')))"
     },
     "metadata": {},
     "output_type": "display_data"
    },
    {
     "name": "stdout",
     "output_type": "stream",
     "text": "\nDone. Takes=0:39:12.086919\n"
    }
   ],
   "source": [
    "files_to_proces = [\n",
    "    './data/corpus_wikipedia_2020-02-01.txt',\n",
    "    './data/corpus_books_2020_02_24.txt'\n",
    "]\n",
    "files_to_proces = [\n",
    "    './data/corpus_wikipedia_2020-02-01.txt',\n",
    "]\n",
    "files_to_proces = [\n",
    "    './data/corpus_books_2020_02_24_fix.txt'\n",
    "]\n",
    "\n",
    "from nltk.tokenize import sent_tokenize\n",
    "\n",
    "for input_file in files_to_proces:\n",
    "    print(input_file)\n",
    "    t0=dt.datetime.now()\n",
    "\n",
    "    p = Path(input_file)\n",
    "    output_path = f\"{p.with_suffix('')}_lines.txt\"\n",
    "    text=''\n",
    "    with open(output_path, 'w+') as output_file:\n",
    "        with open(input_file) as f:\n",
    "            for line in tqdm(f,total=get_num_lines(input_file)):\n",
    "\n",
    "                # get block of text to new line which splits ariticles\n",
    "                text+=line\n",
    "                if line.strip() == '':\n",
    "\n",
    "                    sentences = sentence_tokenizer.tokenize(text)\n",
    "\n",
    "                    file_content = ''\n",
    "                    for sentence in sentences:\n",
    "                        file_content += sentence.strip()\n",
    "                        file_content+='\\n'\n",
    "                    output_file.write(file_content)\n",
    "                    \n",
    "                    output_file.write('\\n')\n",
    "                    text=''\n",
    "\n",
    "                ## old way\n",
    "                # if line.strip() == '':\n",
    "                #     output_file.write('\\n')\n",
    "                #     continue;\n",
    "\n",
    "                # sentences = sentence_tokenizer.tokenize(line)\n",
    "                \n",
    "                # text = ''\n",
    "                # for sentence in sentences:\n",
    "                #     text += sentence.strip()\n",
    "                #     text+='\\n'\n",
    "                # output_file.write(text)\n",
    "                \n",
    "    t1=dt.datetime.now()  \n",
    "    print(f'Done. Takes={t1-t0}')   "
   ]
  },
  {
   "cell_type": "markdown",
   "execution_count": null,
   "metadata": {},
   "outputs": [],
   "source": [
    "### Train the BPE sentencepiece model\n",
    "\n",
    "We used the [sentencepiece](https://github.com/google/sentencepiece)\n",
    "\n",
    "\n",
    "This can be done in two ways:\n",
    "- as a python module\n",
    "- as a command line \n",
    "\n",
    "\n",
    "If you want to use it as a commandline you should [build the C++ version from source](https://github.com/google/sentencepiece#c-from-source)\n"
   ]
  },
  {
   "cell_type": "markdown",
   "metadata": {},
   "source": [
    "Train wikipedia vocab using commandline\n",
    "\n",
    "```\n",
    "spm_train \\\n",
    "    --input=./data/corpus_wikipedia_2020-02-01_lines.txt \\\n",
    "    --max_sentence_length=4192\\\n",
    "    --model_prefix=./data/wikipedia_v32k_sen10M.spm.bpe \\\n",
    "    --vocab_size=32000 \\\n",
    "    --model_type=bpe \\\n",
    "    --shuffle_input_sentence=true \\\n",
    "    --input_sentence_size=10000000 \\\n",
    "    --bos_id=0 --eos_id=1 --pad_id=2 --unk_id=3\n",
    "```\n"
   ]
  },
  {
   "cell_type": "code",
   "execution_count": 8,
   "metadata": {},
   "outputs": [],
   "source": [
    "\n"
   ]
  },
  {
   "cell_type": "code",
   "execution_count": 9,
   "metadata": {},
   "outputs": [
    {
     "name": "stdout",
     "output_type": "stream",
     "text": "--input=./data/corpus_wikipedia_2020-02-01_lines.txt --model_prefix=/home/ksopyla/dev/ermlab/herbert/data/wikipedia_upper_voc_32000_sen10000000 --model_type=bpe --num_threads=4 --vocab_size=32000  --input_sentence_size=10000000 --bos_id=0 --eos_id=1 --pad_id=2 --unk_id=3 --shuffle_input_sentence=true\n2020-02-27 13:11:27.769435\nVocab of 32000 tokens from ./data/corpus_wikipedia_2020-02-01_lines.txt create takes 0:13:14.934491\n"
    }
   ],
   "source": [
    "import sentencepiece as spm\n",
    "vocab_size = 32000\n",
    "model_type = \"bpe\"  \n",
    "iss = 10_000_000\n",
    "\n",
    "vocab_type = 'upper' \n",
    "#vocab_type = 'lower' \n",
    "\n",
    "\n",
    "tok_model = f\"wikipedia_{vocab_type}_voc_{vocab_size}_sen{iss}\"\n",
    "\n",
    "data_file = './data/corpus_wikipedia_2020-02-01_lines.txt'\n",
    "\n",
    "tok_model = os.path.abspath(f\"./data/{tok_model}\")\n",
    "\n",
    "piece_options = ' --bos_id=0 --eos_id=1 --pad_id=2 --unk_id=3 --shuffle_input_sentence=true'\n",
    "\n",
    "\n",
    "cmd = f\"--input={data_file} --model_prefix={tok_model} --model_type={model_type} --num_threads=4 --vocab_size={vocab_size}  --input_sentence_size={iss}\"+ piece_options\n",
    "print(cmd)\n",
    "\n",
    "start = dt.datetime.now()\n",
    "print(start)\n",
    "spm.SentencePieceTrainer.train(cmd)\n",
    "end = dt.datetime.now()\n",
    "\n",
    "print(f\"Vocab of {vocab_size} tokens from {data_file} create takes {end-start}\")\n",
    "\n",
    "\n",
    "\n"
   ]
  },
  {
   "cell_type": "code",
   "execution_count": 10,
   "metadata": {},
   "outputs": [
    {
     "name": "stdout",
     "output_type": "stream",
     "text": "32000\n['▁Będąc', '▁młodym', '▁programi', 'stą', '▁(', 'ho', 'ho', '),', '▁czy', 't', 'ałem', '▁\"', 'D', 'zia', 'dy', '\"', '▁w', '▁1983', 'r', '.']\n"
    }
   ],
   "source": [
    "# makes segmenter instance and loads the model file (m.model)\n",
    "sp = spm.SentencePieceProcessor()\n",
    "sp.load(f\"{tok_model}.model\")\n",
    "\n",
    "# returns vocab size\n",
    "print(sp.get_piece_size())\n",
    "text = \"\"\"Będąc młodym programistą (hoho), czytałem \"Dziady\" w 1983r.\"\"\"\n",
    "\n",
    "# encode: text => id\n",
    "if vocab_type==\"lower\":\n",
    "    text = text.lower()\n",
    "\n",
    "print(sp.encode_as_pieces(text))"
   ]
  },
  {
   "cell_type": "markdown",
   "metadata": {},
   "source": [
    "Change the bpe sentecepiece vocab separator form \\t to space. It is format needed by fairseq-preprocess \n",
    "Open vocab file and replce \\t "
   ]
  },
  {
   "cell_type": "code",
   "execution_count": 12,
   "metadata": {},
   "outputs": [],
   "source": [
    " \n",
    "vocab_file = './data/wikipedia_upper_voc_32000_sen10000000.vocab'\n",
    "\n",
    "\n",
    "p = Path(vocab_file)\n",
    "\n",
    "output_path = f\"{p.with_suffix('')}_fair.vocab\"\n",
    "with open(output_path, 'w+') as output_file:\n",
    "    with open(vocab_file) as f:\n",
    "        \n",
    "        text = f.read().replace('\\t',' ')\n",
    "        output_file.write(text)\n"
   ]
  },
  {
   "cell_type": "markdown",
   "metadata": {},
   "source": [
    "### Split corpus into train, valid, test datasets\n",
    "\n",
    "\n",
    "Split **corpus_wikipedia_2020-02-01.txt**\n",
    "\n",
    "* train - 0 -3500002\n",
    "* valid - 3500002 - 3950001\n",
    "* test - last - 3950001 - 4355333\n",
    "\n",
    "```\n",
    "head -3500002 corpus_wikipedia_2020-02-01.txt > wiki_model/corpus_wikipedia_2020-02-01_train.txt\n",
    "tail -$((4355333-3950001))  corpus_wikipedia_2020-02-01.txt > wiki_model/corpus_wikipedia_2020-02-01_test.txt\n",
    "\n",
    "head -3950001 corpus_wikipedia_2020-02-01.txt > corpus_wikipedia_2020-02-01_valid_part.txt\n",
    "tail -$((3950001-3500002))  corpus_wikipedia_2020-02-01_valid_part.txt > wiki_model/corpus_wikipedia_2020-02-01_valid.txt\n",
    "rm corpus_wikipedia_2020-02-01_valid_part.txt\n",
    "\n",
    "```\n",
    "\n"
   ]
  },
  {
   "cell_type": "markdown",
   "metadata": {},
   "source": [
    "### Encode data with sentence piece model\n",
    "\n",
    "\n",
    "Encode wiki \n",
    "```\n",
    "# Encode Data with SentencePiece Tokenizer\n",
    "cd data/wiki_model\n",
    "\n",
    "for SPLIT in train valid test; do \\\n",
    "    spm_encode \\\n",
    "    --model=./vocab/wikipedia_upper_voc_32000_sen10000000.model \\\n",
    "    --extra_options=bos:eos \\\n",
    "    --output_format=piece \\\n",
    "    < corpus_wikipedia_2020-02-01_${SPLIT}.txt \\\n",
    "    > corpus_wikipedia_2020-02-01_${SPLIT}.txt.bpe\n",
    "done\n",
    "```\n"
   ]
  },
  {
   "cell_type": "markdown",
   "metadata": {},
   "source": [
    "### Preprocess data with fairseq"
   ]
  },
  {
   "cell_type": "code",
   "execution_count": 1,
   "metadata": {},
   "outputs": [
    {
     "name": "stdout",
     "output_type": "stream",
     "text": "\u001b[39m\u001b[1mInstalling \u001b[32m\u001b[1mfairseq\u001b[39m\u001b[22m...\u001b[39m\u001b[22m\n\u001b[K\u001b[39m\u001b[1mAdding\u001b[39m\u001b[22m \u001b[32m\u001b[1mfairseq\u001b[39m\u001b[22m \u001b[39m\u001b[1mto Pipfile's\u001b[39m\u001b[22m \u001b[31m\u001b[1m[packages]\u001b[39m\u001b[22m\u001b[39m\u001b[1m...\u001b[39m\u001b[22m\n\u001b[K\u001b[?25h✔ Installation Succeeded\u001b[0m \n\u001b[39m\u001b[1mInstalling dependencies from Pipfile.lock (d640ed)...\u001b[39m\u001b[22m\n\n\u001b[0m"
    }
   ],
   "source": [
    "\n",
    "!pipenv install fairseq\n"
   ]
  },
  {
   "cell_type": "markdown",
   "metadata": {},
   "source": [
    "Fairseq wiki preprocess bpe encoded and splited data\n",
    "\n",
    "```\n",
    "fairseq-preprocess \\\n",
    "    --only-source \\\n",
    "    --srcdict ./vocab/wikipedia_upper_voc_32000_sen10000000_fair.vocab \\\n",
    "    --trainpref corpus_wikipedia_2020-02-01_train.txt.bpe \\\n",
    "    --validpref corpus_wikipedia_2020-02-01_valid.txt.bpe \\\n",
    "    --testpref corpus_wikipedia_2020-02-01_test.txt.bpe \\\n",
    "    --destdir ./ \\\n",
    "    --workers 3\n",
    "```"
   ]
  },
  {
   "cell_type": "markdown",
   "metadata": {},
   "source": [
    "## Train the model\n",
    "\n",
    "\n",
    "\n"
   ]
  },
  {
   "cell_type": "markdown",
   "metadata": {},
   "source": [
    "### AWS production settings\n",
    "\n",
    "#### p3 instance - linear decay\n",
    "\n",
    "\n",
    "```\n",
    "TOTAL_UPDATES=125000    # Total number of training steps\n",
    "WARMUP_UPDATES=10000    # Warmup the learning rate over this many updates\n",
    "PEAK_LR=0.0005          # Peak learning rate, adjust as needed\n",
    "TOKENS_PER_SAMPLE=512   # Max sequence length\n",
    "MAX_POSITIONS=512       # Num. positional embeddings (usually same as above)\n",
    "MAX_SENTENCES=16        # Number of sequences per batch (batch size)\n",
    "UPDATE_FREQ=16          # Increase the batch size 16x\n",
    "\n",
    "DATA_DIR=/mnt/efs/fs1/bert_model/datasets/roberta_data/wiki_model/\n",
    "SAVE_DIR=/mnt/efs/fs1/bert_model/checkpoints/wiki_model\n",
    "LOGS_DIR=/mnt/efs/fs1/bert_model/checkpoints/wiki_model/logs/\n",
    "\n",
    "fairseq-train --fp16 $DATA_DIR \\\n",
    "    --task masked_lm --criterion masked_lm \\\n",
    "    --arch roberta_base --sample-break-mode complete --tokens-per-sample $TOKENS_PER_SAMPLE \\\n",
    "    --optimizer adam --adam-betas '(0.9,0.98)' --adam-eps 1e-6 --clip-norm 0.0 \\\n",
    "    --lr-scheduler polynomial_decay --lr $PEAK_LR --warmup-updates $WARMUP_UPDATES --total-num-update $TOTAL_UPDATES \\\n",
    "    --dropout 0.1 --attention-dropout 0.1 --weight-decay 0.01 \\\n",
    "    --max-sentences $MAX_SENTENCES --update-freq $UPDATE_FREQ \\\n",
    "    --max-update $TOTAL_UPDATES --log-format simple --log-interval 1 --skip-invalid-size-inputs-valid-test \\\n",
    "    --save-dir $SAVE_DIR --tensorboard-logdir $LOGS_DIR\n",
    "\n",
    "```"
   ]
  },
  {
   "cell_type": "markdown",
   "metadata": {},
   "source": [
    "#### g4 instance - wiki triangular\n",
    "\n",
    "\n",
    "```\n",
    "TOTAL_UPDATES=125000    # Total number of training steps\n",
    "STEP_SIZE=5000\n",
    "BASE_LR=0.0001\n",
    "PEAK_LR=0.0007          # Peak learning rate, adjust as needed\n",
    "TOKENS_PER_SAMPLE=512   # Max sequence length\n",
    "MAX_POSITIONS=512       # Num. positional embeddings (usually same as above)\n",
    "MAX_SENTENCES=16        # Number of sequences per batch (batch size)\n",
    "UPDATE_FREQ=16          # Increase the batch size 16x\n",
    "\n",
    "DATA_DIR=/mnt/efs/fs1/bert_model/datasets/roberta_data/wiki_model/\n",
    "SAVE_DIR=/mnt/efs/fs1/bert_model/checkpoints/wiki_model_tri\n",
    "LOGS_DIR=/mnt/efs/fs1/bert_model/checkpoints/wiki_model_tri/logs/\n",
    "\n",
    "fairseq-train --fp16 $DATA_DIR \\\n",
    "    --task masked_lm --criterion masked_lm \\\n",
    "    --arch roberta_base --sample-break-mode complete --tokens-per-sample $TOKENS_PER_SAMPLE \\\n",
    "    --optimizer adam --adam-betas '(0.9,0.98)' --adam-eps 1e-6 --clip-norm 0.0 \\\n",
    "    --lr-scheduler triangular --lr $BASE_LR --max-lr $PEAK_LR  --lr-period-updates $STEP_SIZE\\\n",
    "    --dropout 0.1 --attention-dropout 0.1 --weight-decay 0.01 \\\n",
    "    --max-sentences $MAX_SENTENCES --update-freq $UPDATE_FREQ \\\n",
    "    --max-update $TOTAL_UPDATES --skip-invalid-size-inputs-valid-test \\\n",
    "    --tensorboard-logdir $LOGS_DIR --log-format simple --log-interval 1  --save-dir $SAVE_DIR\n",
    "```"
   ]
  },
  {
   "cell_type": "markdown",
   "metadata": {},
   "source": [
    "#### g4 instance - wiki cosine\n",
    "\n",
    "\n",
    "\n",
    "```\n",
    "TOTAL_UPDATES=125000    # Total number of training steps\n",
    "\n",
    "BASE_LR=0.00005\n",
    "PEAK_LR=0.0007          # Peak learning rate, adjust as needed\n",
    "TOKENS_PER_SAMPLE=512   # Max sequence length\n",
    "MAX_POSITIONS=512       # Num. positional embeddings (usually same as above)\n",
    "MAX_SENTENCES=16        # Number of sequences per batch (batch size)\n",
    "UPDATE_FREQ=16          # Increase the batch size 16x\n",
    "\n",
    "DATA_DIR=/mnt/efs/fs1/bert_model/datasets/roberta_data/wiki_model/\n",
    "SAVE_DIR=/mnt/efs/fs1/bert_model/checkpoints/wiki_model_cos\n",
    "LOGS_DIR=/mnt/efs/fs1/bert_model/checkpoints/wiki_model_cos/logs/\n",
    "\n",
    "fairseq-train --fp16 $DATA_DIR \\\n",
    "    --task masked_lm --criterion masked_lm \\\n",
    "    --arch roberta_base --sample-break-mode complete --tokens-per-sample $TOKENS_PER_SAMPLE \\\n",
    "    --optimizer adam --adam-betas '(0.9,0.98)' --adam-eps 1e-6 --clip-norm 0.0 \\\n",
    "    --lr-scheduler cosine --lr-period-updates 50 --t-mult 2 --lr $BASE_LR --max-lr $PEAK_LR \\\n",
    "    --dropout 0.1 --attention-dropout 0.1 --weight-decay 0.01 \\\n",
    "    --max-sentences $MAX_SENTENCES --update-freq $UPDATE_FREQ \\\n",
    "    --max-update $TOTAL_UPDATES --skip-invalid-size-inputs-valid-test \\\n",
    "    --tensorboard-logdir $LOGS_DIR --log-format simple --log-interval 1  --save-dir $SAVE_DIR\n",
    "```"
   ]
  },
  {
   "cell_type": "markdown",
   "metadata": {},
   "source": [
    "### Odra settings\n",
    "\n",
    "```\n",
    "TOTAL_UPDATES=30000    # Total number of training steps\n",
    "WARMUP_UPDATES=10000    # Warmup the learning rate over this many updates\n",
    "PEAK_LR=0.0005          # Peak learning rate, adjust as needed\n",
    "TOKENS_PER_SAMPLE=512   # Max sequence length\n",
    "MAX_POSITIONS=512       # Num. positional embeddings (usually same as above)\n",
    "MAX_SENTENCES=6        \n",
    "UPDATE_FREQ=16          \n",
    "\n",
    "DATA_DIR=/mnt/hdd/goodwrite_nas/bert_model/datasets/roberta_data/wiki_model\n",
    "\n",
    "fairseq-train $DATA_DIR \\\n",
    "    --task masked_lm --criterion masked_lm \\\n",
    "    --arch roberta_base --sample-break-mode complete --tokens-per-sample $TOKENS_PER_SAMPLE \\\n",
    "    --optimizer adam --adam-betas '(0.9,0.98)' --adam-eps 1e-6 --clip-norm 0.0 \\\n",
    "    --lr-scheduler polynomial_decay --lr $PEAK_LR --warmup-updates $WARMUP_UPDATES --total-num-update $TOTAL_UPDATES \\\n",
    "    --dropout 0.1 --attention-dropout 0.1 --weight-decay 0.01 \\\n",
    "    --max-sentences $MAX_SENTENCES --update-freq $UPDATE_FREQ \\\n",
    "    --max-update $TOTAL_UPDATES --log-format simple --log-interval 1 --skip-invalid-size-inputs-valid-test --tensorboard-logdir ./logs \n",
    "\n",
    "\n",
    "TOTAL_UPDATES=50000    # Total number of training steps\n",
    "WARMUP_UPDATES=5000\n",
    "PEAK_LR=0.001          # Peak learning rate, adjust as needed\n",
    "TOKENS_PER_SAMPLE=512   # Max sequence length\n",
    "MAX_POSITIONS=512       # Num. positional embeddings (usually same as above)\n",
    "MAX_SENTENCES=6        \n",
    "UPDATE_FREQ=16          \n",
    "\n",
    "DATA_DIR=/mnt/hdd/goodwrite_nas/bert_model/datasets/roberta_data/wiki_model\n",
    "\n",
    "\n",
    "#after 32184 steps, 12 epoch\n",
    "fairseq-train $DATA_DIR \\\n",
    "    --task masked_lm --criterion masked_lm \\\n",
    "    --arch roberta_base --sample-break-mode complete --tokens-per-sample $TOKENS_PER_SAMPLE \\\n",
    "    --reset-lr-scheduler \\\n",
    "    --optimizer adam --adam-betas '(0.9,0.98)' --adam-eps 1e-6 --clip-norm 0.0 \\\n",
    "    --lr-scheduler polynomial_decay --lr $PEAK_LR --warmup-updates $WARMUP_UPDATES --total-num-update $TOTAL_UPDATES \\\n",
    "    --dropout 0.1 --attention-dropout 0.1 --weight-decay 0.01 \\\n",
    "    --max-sentences $MAX_SENTENCES --update-freq $UPDATE_FREQ \\\n",
    "    --max-update $TOTAL_UPDATES --log-format simple --log-interval 1 --skip-invalid-size-inputs-valid-test --tensorboard-logdir ./logs \n",
    "\n",
    "\n",
    "\n",
    "fairseq-train $DATA_DIR \\\n",
    "    --task masked_lm --criterion masked_lm \\\n",
    "    --arch roberta_base --sample-break-mode complete --tokens-per-sample $TOKENS_PER_SAMPLE \\\n",
    "    --optimizer adam --adam-betas '(0.9,0.98)' --adam-eps 1e-6 --clip-norm 0.0 \\\n",
    "    --reset-lr-scheduler \\\n",
    "    --lr-scheduler triangular --lr $BASE_LR --max-lr $MAX_LR \\\n",
    "    --dropout 0.1 --attention-dropout 0.1 --weight-decay 0.01 \\\n",
    "    --max-sentences $MAX_SENTENCES --update-freq $UPDATE_FREQ \\\n",
    "    --max-update $TOTAL_UPDATES --log-format simple --log-interval 1 --skip-invalid-size-inputs-valid-test --tensorboard-logdir ./logs "
   ]
  }
 ]
}